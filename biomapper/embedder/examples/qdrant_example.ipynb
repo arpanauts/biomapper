{
 "cells": [
  {
   "cell_type": "code",
   "execution_count": null,
   "id": "95caf9c3",
   "metadata": {},
   "outputs": [],
   "source": [
    "\"\"\"Example of using the Qdrant vector store for embeddings.\"\"\""
   ]
  },
  {
   "cell_type": "code",
   "execution_count": null,
   "id": "592f0606",
   "metadata": {},
   "outputs": [],
   "source": [
    "import os\n",
    "import logging\n",
    "import numpy as np\n",
    "from typing import List, Dict, Any"
   ]
  },
  {
   "cell_type": "code",
   "execution_count": null,
   "id": "4ac0f47a",
   "metadata": {},
   "outputs": [],
   "source": [
    "from biomapper.embedder.generators.text_embedder import TextEmbedder\n",
    "from biomapper.embedder.storage.qdrant_store import QdrantVectorStore\n",
    "from biomapper.embedder.search.engine import EmbedderSearchEngine"
   ]
  },
  {
   "cell_type": "code",
   "execution_count": null,
   "id": "e4ff064f",
   "metadata": {
    "lines_to_next_cell": 1
   },
   "outputs": [],
   "source": [
    "# Configure logging\n",
    "logging.basicConfig(level=logging.INFO)"
   ]
  },
  {
   "cell_type": "code",
   "execution_count": null,
   "id": "5b29aeb4",
   "metadata": {
    "lines_to_next_cell": 1
   },
   "outputs": [],
   "source": [
    "def prepare_sample_data() -> List[Dict[str, Any]]:\n",
    "    \"\"\"Prepare sample data for embedding.\n",
    "    \n",
    "    Returns:\n",
    "        List of sample data items\n",
    "    \"\"\"\n",
    "    return [\n",
    "        {\n",
    "            \"id\": \"CHEBI:16236\",\n",
    "            \"type\": \"compound\",\n",
    "            \"primary_text\": \"Glucose is a simple sugar with the molecular formula C6H12O6. Glucose is the most abundant monosaccharide, a subcategory of carbohydrates.\",\n",
    "            \"metadata\": {\n",
    "                \"name\": \"Glucose\",\n",
    "                \"formula\": \"C6H12O6\",\n",
    "                \"inchi\": \"InChI=1S/C6H12O6/c7-1-2-3(8)4(9)5(10)6(11)12-2/h2-11H,1H2/t2-,3-,4+,5-,6?/m1/s1\",\n",
    "                \"smiles\": \"C([C@@H]1[C@H]([C@@H]([C@H](C(O1)O)O)O)O)O\",\n",
    "                \"molecular_weight\": 180.156,\n",
    "                \"synonyms\": [\"D-Glucose\", \"Dextrose\", \"Grape sugar\", \"Blood sugar\"]\n",
    "            },\n",
    "            \"source\": \"chebi\"\n",
    "        },\n",
    "        {\n",
    "            \"id\": \"CHEBI:27732\",\n",
    "            \"type\": \"compound\",\n",
    "            \"primary_text\": \"Lactose is a disaccharide sugar composed of galactose and glucose. Lactose makes up around 2–8% of milk by weight.\",\n",
    "            \"metadata\": {\n",
    "                \"name\": \"Lactose\",\n",
    "                \"formula\": \"C12H22O11\",\n",
    "                \"inchi\": \"InChI=1S/C12H22O11/c13-1-4-6(16)8(18)9(19)11(21-4)23-12-10(20)7(17)5(15)3(2-14)22-12/h3-20H,1-2H2/t3-,4-,5-,6-,7-,8-,9-,10-,11-,12+/m1/s1\",\n",
    "                \"smiles\": \"C([C@@H]1[C@H]([C@@H]([C@H](O1)O[C@H]2[C@@H]([C@H]([C@@H]([C@H](O2)CO)O)O)O)O)O)O\",\n",
    "                \"molecular_weight\": 342.297,\n",
    "                \"synonyms\": [\"Milk sugar\", \"Beta-D-galactopyranosyl-(1->4)-D-glucose\"]\n",
    "            },\n",
    "            \"source\": \"chebi\"\n",
    "        },\n",
    "        {\n",
    "            \"id\": \"CHEBI:17234\",\n",
    "            \"type\": \"compound\",\n",
    "            \"primary_text\": \"Caffeine is a central nervous system stimulant of the methylxanthine class. It is the world's most widely consumed psychoactive drug.\",\n",
    "            \"metadata\": {\n",
    "                \"name\": \"Caffeine\",\n",
    "                \"formula\": \"C8H10N4O2\",\n",
    "                \"inchi\": \"InChI=1S/C8H10N4O2/c1-10-4-9-6-5(10)7(13)12(3)8(14)11(6)2/h4H,1-3H3\",\n",
    "                \"smiles\": \"CN1C=NC2=C1C(=O)N(C(=O)N2C)C\",\n",
    "                \"molecular_weight\": 194.191,\n",
    "                \"synonyms\": [\"1,3,7-Trimethylpurine-2,6-dione\", \"Theine\", \"Guaranine\", \"Methyltheobromine\"]\n",
    "            },\n",
    "            \"source\": \"chebi\"\n",
    "        }\n",
    "    ]"
   ]
  },
  {
   "cell_type": "code",
   "execution_count": null,
   "id": "40950d30",
   "metadata": {
    "lines_to_next_cell": 1
   },
   "outputs": [],
   "source": [
    "def main():\n",
    "    \"\"\"Main example function.\"\"\"\n",
    "    # Initialize components\n",
    "    embedder = TextEmbedder(model_name=\"all-MiniLM-L6-v2\")\n",
    "    \n",
    "    # Create Qdrant store\n",
    "    # For local storage:\n",
    "    vector_store = QdrantVectorStore(\n",
    "        collection_name=\"biomapper_compounds\",\n",
    "        dimension=384,  # Matches the embedding model dimension\n",
    "        local_path=\"/tmp/qdrant_storage\"  # Local storage path\n",
    "    )\n",
    "    \n",
    "    # For connecting to a Qdrant server:\n",
    "    # vector_store = QdrantVectorStore(\n",
    "    #     collection_name=\"biomapper_compounds\",\n",
    "    #     url=\"http://localhost:6333\",  # Change to your Qdrant server URL\n",
    "    #     # api_key=\"your-api-key\",  # Uncomment and add your API key for Qdrant Cloud\n",
    "    # )\n",
    "    \n",
    "    # Prepare sample data\n",
    "    data = prepare_sample_data()\n",
    "    \n",
    "    # Generate embeddings\n",
    "    texts = [item[\"primary_text\"] for item in data]\n",
    "    embeddings = embedder.embed(texts)\n",
    "    \n",
    "    # Store embeddings with metadata\n",
    "    ids = vector_store.add(embeddings, [item[\"metadata\"] for item in data])\n",
    "    logging.info(f\"Added {len(ids)} items to vector store\")\n",
    "    \n",
    "    # Create search engine\n",
    "    search_engine = EmbedderSearchEngine(embedder, vector_store)\n",
    "    \n",
    "    # Search example\n",
    "    query = \"What is a sugar found in milk?\"\n",
    "    results = search_engine.search(query, k=2)\n",
    "    \n",
    "    # Display results\n",
    "    logging.info(f\"Search query: '{query}'\")\n",
    "    for i, result in enumerate(results):\n",
    "        logging.info(f\"Result {i+1}:\")\n",
    "        logging.info(f\"  ID: {result['id']}\")\n",
    "        logging.info(f\"  Name: {result['metadata']['name']}\")\n",
    "        logging.info(f\"  Similarity: {result['similarity']:.4f}\")\n",
    "        logging.info(f\"  Formula: {result['metadata']['formula']}\")\n",
    "    \n",
    "    # Filtered search example (additional Qdrant capability)\n",
    "    filtered_results = vector_store.filter_search(\n",
    "        query_vector=embedder.embed_single(query),\n",
    "        filter_conditions={\"source\": \"chebi\"},\n",
    "        k=2\n",
    "    )\n",
    "    \n",
    "    logging.info(\"\\nFiltered search results:\")\n",
    "    for i, result in enumerate(filtered_results):\n",
    "        logging.info(f\"Result {i+1}:\")\n",
    "        logging.info(f\"  ID: {result['id']}\")\n",
    "        logging.info(f\"  Name: {result['metadata']['name']}\")\n",
    "        logging.info(f\"  Similarity: {result['similarity']:.4f}\")\n",
    "    \n",
    "    # Create index for faster filtering (Qdrant-specific feature)\n",
    "    vector_store.create_payload_index(\"name\")\n",
    "    logging.info(\"Created payload index on 'name' field\")\n",
    "    \n",
    "    # Get total count\n",
    "    count = vector_store.get_total_count()\n",
    "    logging.info(f\"Total vectors in store: {count}\")"
   ]
  },
  {
   "cell_type": "code",
   "execution_count": null,
   "id": "6ae944b4",
   "metadata": {},
   "outputs": [],
   "source": [
    "if __name__ == \"__main__\":\n",
    "    main()"
   ]
  }
 ],
 "metadata": {
  "jupytext": {
   "cell_metadata_filter": "-all",
   "main_language": "python",
   "notebook_metadata_filter": "-all"
  }
 },
 "nbformat": 4,
 "nbformat_minor": 5
}
