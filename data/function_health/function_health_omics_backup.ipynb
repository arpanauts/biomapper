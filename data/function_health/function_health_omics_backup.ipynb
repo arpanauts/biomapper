{
 "cells": [
  {
   "cell_type": "markdown",
   "metadata": {},
   "source": [
    "# Function Health Clinical Tests vs. Omics Data Correlation Analysis\n",
    "\n",
    "This notebook analyzes correlations between matched Function Health and Arivale clinical chemistry tests with Arivale omics data (proteomics and metabolomics).\n",
    "\n",
    "## Objectives:\n",
    "1. Load matched clinical test mappings\n",
    "2. Load and align omics data (proteomics and metabolomics)\n",
    "3. Calculate correlations between clinical tests and omics features\n",
    "4. Identify statistically significant associations\n",
    "5. Visualize and report findings"
   ]
  },
  {
   "cell_type": "markdown",
   "metadata": {},
   "source": [
    "## 1. Setup and Imports"
   ]
  },
  {
   "cell_type": "code",
   "execution_count": 10,
   "metadata": {},
   "outputs": [],
   "source": [
    "#%matplotlib inline\n",
    "import pandas as pd\n",
    "import numpy as np\n",
    "import matplotlib.pyplot as plt\n",
    "import seaborn as sns\n",
    "from scipy import stats\n",
    "from statsmodels.stats.multitest import multipletests\n",
    "import warnings\n",
    "warnings.filterwarnings('ignore')\n",
    "\n",
    "# Set display options\n",
    "pd.set_option('display.max_columns', 100)\n",
    "pd.set_option('display.max_rows', 100)\n",
    "\n",
    "# Set plot style\n",
    "sns.set_style('whitegrid')\n",
    "plt.rcParams['figure.figsize'] = (12, 8)"
   ]
  },
  {
   "cell_type": "markdown",
   "metadata": {},
   "source": [
    "## 2. Load Data"
   ]
  },
  {
   "cell_type": "code",
   "execution_count": 11,
   "metadata": {},
   "outputs": [
    {
     "name": "stdout",
     "output_type": "stream",
     "text": [
      "\n",
      "Loaded chemistry data: (11167, 140)\n",
      "Loaded proteomics data: (6018, 1216)\n",
      "Loaded metabolomics data: (3225, 1304)\n"
     ]
    }
   ],
   "source": [
    "# Load chemistry data\n",
    "chemistry_df = pd.read_csv('/procedure/data/local_data/ARIVALE_SNAPSHOTS/chemistries.tsv', \n",
    "                          sep='\\t', comment='#')\n",
    "print(f\"\\nLoaded chemistry data: {chemistry_df.shape}\")\n",
    "\n",
    "# Load proteomics data\n",
    "proteomics_df = pd.read_csv('/procedure/data/local_data/ARIVALE_SNAPSHOTS/proteomics_corrected.tsv', \n",
    "                           sep='\\t', comment='#')\n",
    "print(f\"Loaded proteomics data: {proteomics_df.shape}\")\n",
    "\n",
    "# Load metabolomics data  \n",
    "metabolomics_df = pd.read_csv('/procedure/data/local_data/ARIVALE_SNAPSHOTS/metabolomics_corrected.tsv',\n",
    "                             sep='\\t', comment='#')\n",
    "print(f\"Loaded metabolomics data: {metabolomics_df.shape}\")"
   ]
  },
  {
   "cell_type": "markdown",
   "metadata": {},
   "source": [
    "## 3. Data Preprocessing"
   ]
  },
  {
   "cell_type": "code",
   "execution_count": 12,
   "metadata": {},
   "outputs": [
    {
     "name": "stdout",
     "output_type": "stream",
     "text": [
      "\n",
      "Number of matched Arivale tests: 128\n",
      "\n",
      "Total chemistry columns: 128\n",
      "First 10 chemistry columns: ['A/G RATIO', 'ADIPONECTIN, SERUM', 'ALAT (SGPT)', 'ALBUMIN', 'ALKALINE PHOSPHATASE', 'ANTIOXID CAP, TOTAL', 'ARACHIDONIC ACID', 'ARSENIC, BLOOD', 'ASAT (SGOT)', 'BASOPHILS']\n"
     ]
    }
   ],
   "source": [
    "# Get list of matched Arivale test names\n",
    "matched_arivale_tests = matched_tests['Display Name'].dropna().unique()\n",
    "print(f\"\\nNumber of matched Arivale tests: {len(matched_arivale_tests)}\")\n",
    "\n",
    "# Get chemistry columns (excluding metadata columns)\n",
    "chem_cols = [col for col in chemistry_df.columns if col not in ['public_client_id', 'vendor', 'vendor_observation_id', \n",
    "                                                                   'observation_id', 'reflexive', 'fasting', \n",
    "                                                                   'days_in_program', 'days_since_first_call', \n",
    "                                                                   'days_since_first_draw', 'month', 'weekday', 'season',\n",
    "                                                                   'sample_id']]\n",
    "print(f\"\\nTotal chemistry columns: {len(chem_cols)}\")\n",
    "print(\"First 10 chemistry columns:\", chem_cols[:10])"
   ]
  },
  {
   "cell_type": "code",
   "execution_count": 13,
   "metadata": {},
   "outputs": [
    {
     "name": "stdout",
     "output_type": "stream",
     "text": [
      "Loaded 331 test mappings\n",
      "\n",
      "Matched tests:\n",
      "                     Test Name            Display Name  \\\n",
      "0            Apolipoprotein A1                 Protein   \n",
      "1   Arachidonic Acid/EPA Ratio        Arachidonic acid   \n",
      "2                      Arsenic                 Arsenic   \n",
      "3       White Blood Cell Count  White Blood Cell Count   \n",
      "4                         Zinc                    Zinc   \n",
      "5              Total Bilirubin         Total Bilirubin   \n",
      "6            Total Cholesterol       Total cholesterol   \n",
      "7                Total Protein           Total Protein   \n",
      "8                Triglycerides           Triglycerides   \n",
      "9                    Uric Acid               Uric Acid   \n",
      "10                   Vitamin D               Vitamin D   \n",
      "11                      Sodium                  Sodium   \n",
      "12        Red Blood Cell Count    Red Blood Cell Count   \n",
      "13                    Selenium                Selenium   \n",
      "14              Platelet Count          Platelet Count   \n",
      "15                   Potassium               Potassium   \n",
      "16      BUN / Creatinine Ratio    Bun/Creatinine Ratio   \n",
      "17                   Basophils               Basophils   \n",
      "18                   Bilirubin        Direct Bilirubin   \n",
      "19         Blood Urea Nitrogen                    Urea   \n",
      "\n",
      "                 Match_Type  \n",
      "0     Fuzzy (partial_ratio)  \n",
      "1   Fuzzy (token_set_ratio)  \n",
      "2                     Exact  \n",
      "3                     Exact  \n",
      "4                     Exact  \n",
      "5                     Exact  \n",
      "6      Fuzzy (simple_ratio)  \n",
      "7                     Exact  \n",
      "8                     Exact  \n",
      "9                     Exact  \n",
      "10                    Exact  \n",
      "11                    Exact  \n",
      "12                    Exact  \n",
      "13                    Exact  \n",
      "14                    Exact  \n",
      "15                    Exact  \n",
      "16     Fuzzy (simple_ratio)  \n",
      "17                    Exact  \n",
      "18  Fuzzy (token_set_ratio)  \n",
      "19  Fuzzy (token_set_ratio)  \n"
     ]
    }
   ],
   "source": [
    "# Load the mapping results\n",
    "mapping_df = pd.read_csv('/home/ubuntu/biomapper/data/function_health/function_health_arivale_merged_outer.csv')\n",
    "print(f\"Loaded {len(mapping_df)} test mappings\")\n",
    "print(\"\\nMatched tests:\")\n",
    "matched_tests = mapping_df[mapping_df['Match_Type'] != 'No Match']\n",
    "print(matched_tests[['Test Name', 'Display Name', 'Match_Type']].head(20))"
   ]
  },
  {
   "cell_type": "code",
   "execution_count": 14,
   "metadata": {},
   "outputs": [
    {
     "name": "stdout",
     "output_type": "stream",
     "text": [
      "\n",
      "Detailed mapping check:\n",
      "Sample matched Display Names from mapping file:\n",
      "['Protein' 'Arachidonic acid' 'Arsenic' 'White Blood Cell Count' 'Zinc'\n",
      " 'Total Bilirubin' 'Total cholesterol' 'Total Protein' 'Triglycerides'\n",
      " 'Uric Acid']\n",
      "\n",
      "\n",
      "Matching process:\n",
      "\n",
      "Found 20 matches\n",
      "  'Protein' -> 'PROTEIN' (Upper)\n",
      "  'Arachidonic acid' -> 'ARACHIDONIC ACID' (Upper)\n",
      "  'Arsenic' -> 'ARSENIC, BLOOD' (Via Name)\n",
      "  'White Blood Cell Count' -> 'WHITE CELL COUNT' (Via Name)\n",
      "  'Zinc' -> 'ZINC' (Upper)\n",
      "  'Total Bilirubin' -> 'BILIRUBIN, TOTAL' (Via Name)\n",
      "  'Total cholesterol' -> 'CHOLESTEROL, TOTAL' (Via Name)\n",
      "  'Total Protein' -> 'PROTEIN, TOTAL SERUM' (Via Name)\n",
      "  'Triglycerides' -> 'TRIGLYCERIDES' (Upper)\n",
      "  'Uric Acid' -> 'URIC ACID' (Upper)\n"
     ]
    }
   ],
   "source": [
    "# Let's check the mapping in more detail\n",
    "print(\"\\nDetailed mapping check:\")\n",
    "print(\"Sample matched Display Names from mapping file:\")\n",
    "print(matched_arivale_tests[:10])\n",
    "\n",
    "print(\"\\n\\nMatching process:\")\n",
    "found_matches = []\n",
    "for i, display_name in enumerate(matched_arivale_tests[:20]):  # Check first 20\n",
    "    found = False\n",
    "    # Direct match\n",
    "    if display_name in chem_cols:\n",
    "        found_matches.append((display_name, display_name, 'Direct'))\n",
    "        found = True\n",
    "    # Uppercase match\n",
    "    elif display_name.upper() in chem_cols:\n",
    "        found_matches.append((display_name, display_name.upper(), 'Upper'))\n",
    "        found = True\n",
    "    # Check for Name column match (from mapping file)\n",
    "    else:\n",
    "        # Get the Name from the mapping file for this Display Name\n",
    "        name_match = mapping_df[mapping_df['Display Name'] == display_name]['Name'].values\n",
    "        if len(name_match) > 0:\n",
    "            arivale_name = name_match[0]\n",
    "            if arivale_name in chem_cols:\n",
    "                found_matches.append((display_name, arivale_name, 'Via Name'))\n",
    "                found = True\n",
    "    \n",
    "    if not found and i < 10:\n",
    "        print(f\"  No match for: {display_name}\")\n",
    "\n",
    "print(f\"\\nFound {len(found_matches)} matches\")\n",
    "for orig, matched, match_type in found_matches[:10]:\n",
    "    print(f\"  '{orig}' -> '{matched}' ({match_type})\")"
   ]
  },
  {
   "cell_type": "code",
   "source": "# Create merged dataset with chemistry and omics data\n# Check if sample_id exists in chemistry_df\nif 'sample_id' not in chemistry_df.columns:\n    # If no sample_id, we'll need to create a unique identifier\n    chemistry_df['sample_id'] = chemistry_df['public_client_id'] + '_' + chemistry_df.index.astype(str)\n    print(\"Created sample_id column in chemistry data\")\n\n# Check if sample_id exists in proteomics and metabolomics\nif 'sample_id' not in proteomics_df.columns:\n    print(\"Warning: sample_id not found in proteomics data\")\nif 'sample_id' not in metabolomics_df.columns:\n    print(\"Warning: sample_id not found in metabolomics data\")\n\n# First, merge chemistry with proteomics\nmerged_df = pd.merge(\n    chemistry_df[['public_client_id', 'sample_id'] + chemistry_test_cols],\n    proteomics_df,\n    on=['public_client_id', 'sample_id'],\n    how='inner',\n    suffixes=('_chem', '_prot')\n)\nprint(f\"\\nAfter merging chemistry + proteomics: {merged_df.shape}\")\n\n# Then merge with metabolomics\nmerged_df = pd.merge(\n    merged_df,\n    metabolomics_df,\n    on=['public_client_id', 'sample_id'],\n    how='inner',\n    suffixes=('', '_metab')\n)\nprint(f\"After merging with metabolomics: {merged_df.shape}\")\nprint(f\"\\nTotal samples with all data types: {len(merged_df)}\")",
   "metadata": {},
   "outputs": []
  },
  {
   "cell_type": "code",
   "execution_count": 15,
   "metadata": {},
   "outputs": [
    {
     "name": "stdout",
     "output_type": "stream",
     "text": [
      "\n",
      "Found 128 unique matched test columns in chemistry data\n",
      "Matched columns: ['VLDL TRIGLYCERIDES', 'VLDL PARTICLE NUMBER', 'GGT', 'TOTAL NEUTROPHILS', 'LP_PLA2', 'WHITE CELL COUNT', 'LEAD, BLOOD', 'PAI-1 ANTIGEN, QNT', 'VITAMIN D3, 25-OH', 'LDL SMALL'] ...\n"
     ]
    }
   ],
   "source": [
    "# Create improved mapping between Display Names and chemistry column names\n",
    "display_to_chem = {}\n",
    "for display_name in matched_arivale_tests:\n",
    "    # Direct match\n",
    "    if display_name in chem_cols:\n",
    "        display_to_chem[display_name] = display_name\n",
    "    # Uppercase match\n",
    "    elif display_name.upper() in chem_cols:\n",
    "        display_to_chem[display_name] = display_name.upper()\n",
    "    # Check for Name column match (from mapping file)\n",
    "    else:\n",
    "        # Get the Name from the mapping file for this Display Name\n",
    "        name_match = mapping_df[mapping_df['Display Name'] == display_name]['Name'].values\n",
    "        if len(name_match) > 0:\n",
    "            arivale_name = name_match[0]\n",
    "            if arivale_name in chem_cols:\n",
    "                display_to_chem[display_name] = arivale_name\n",
    "\n",
    "# Get the actual chemistry columns that we can analyze\n",
    "chemistry_test_cols = list(set(display_to_chem.values()))  # Use set to remove duplicates\n",
    "print(f\"\\nFound {len(chemistry_test_cols)} unique matched test columns in chemistry data\")\n",
    "print(\"Matched columns:\", chemistry_test_cols[:10], \"...\")\n",
    "\n",
    "# Create reverse mapping for reporting\n",
    "chem_to_display = {v: k for k, v in display_to_chem.items()}"
   ]
  },
  {
   "cell_type": "code",
   "execution_count": null,
   "metadata": {},
   "outputs": [],
   "source": [
    "# Create merged dataset with chemistry and omics data\n",
    "# First, merge chemistry with proteomics\n",
    "merged_df = pd.merge(\n",
    "    chemistry_df[['public_client_id', 'sample_id'] + chemistry_test_cols],\n",
    "    proteomics_df,\n",
    "    on=['public_client_id', 'sample_id'],\n",
    "    how='inner',\n",
    "    suffixes=('_chem', '_prot')\n",
    ")\n",
    "print(f\"\\nAfter merging chemistry + proteomics: {merged_df.shape}\")\n",
    "\n",
    "# Then merge with metabolomics\n",
    "merged_df = pd.merge(\n",
    "    merged_df,\n",
    "    metabolomics_df,\n",
    "    on=['public_client_id', 'sample_id'],\n",
    "    how='inner',\n",
    "    suffixes=('', '_metab')\n",
    ")\n",
    "print(f\"After merging with metabolomics: {merged_df.shape}\")\n",
    "print(f\"\\nTotal samples with all data types: {len(merged_df)}\")"
   ]
  },
  {
   "cell_type": "markdown",
   "metadata": {},
   "source": [
    "## 4. Correlation Analysis"
   ]
  },
  {
   "cell_type": "code",
   "execution_count": null,
   "metadata": {},
   "outputs": [],
   "source": [
    "# Identify omics feature columns\n",
    "# Proteomics columns typically start with chip IDs like 'CAM_', 'CRE_', etc.\n",
    "proteomics_cols = [col for col in merged_df.columns if any(col.startswith(prefix) for prefix in \n",
    "                   ['CAM_', 'CRE_', 'CVD2_', 'CVD3_', 'DEV_', 'INF_', 'IRE_', 'MET_', 'NEU1_', \n",
    "                    'NEX_', 'ODA_', 'ONC2_', 'ONC3_'])]\n",
    "\n",
    "# Metabolomics columns are numeric (metabolite IDs)\n",
    "metabolomics_cols = [col for col in merged_df.columns if col.isdigit() or col.startswith('100')]\n",
    "\n",
    "print(f\"\\nIdentified {len(proteomics_cols)} proteomics features\")\n",
    "print(f\"Identified {len(metabolomics_cols)} metabolomics features\")\n",
    "print(f\"\\nExample proteomics features: {proteomics_cols[:5]}\")\n",
    "print(f\"Example metabolomics features: {metabolomics_cols[:5]}\")"
   ]
  },
  {
   "cell_type": "code",
   "execution_count": null,
   "metadata": {},
   "outputs": [],
   "source": [
    "# Function to calculate correlations for a clinical test\n",
    "def calculate_test_correlations(test_name, omics_features, data_df, omics_type='proteomics'):\n",
    "    \"\"\"\n",
    "    Calculate correlations between a clinical test and all omics features\n",
    "    \"\"\"\n",
    "    results = []\n",
    "    \n",
    "    # Get test values\n",
    "    if test_name not in data_df.columns:\n",
    "        return pd.DataFrame()\n",
    "    \n",
    "    test_values = data_df[test_name].dropna()\n",
    "    \n",
    "    for feature in omics_features:\n",
    "        if feature not in data_df.columns:\n",
    "            continue\n",
    "            \n",
    "        # Get feature values\n",
    "        feature_values = data_df[feature]\n",
    "        \n",
    "        # Find common non-null indices\n",
    "        common_idx = test_values.index.intersection(feature_values.dropna().index)\n",
    "        \n",
    "        if len(common_idx) < 10:  # Require at least 10 samples\n",
    "            continue\n",
    "            \n",
    "        # Calculate correlation\n",
    "        x = test_values.loc[common_idx]\n",
    "        y = feature_values.loc[common_idx]\n",
    "        \n",
    "        # Pearson correlation\n",
    "        r, p_value = stats.pearsonr(x, y)\n",
    "        \n",
    "        # Spearman correlation (non-parametric)\n",
    "        rho, p_spearman = stats.spearmanr(x, y)\n",
    "        \n",
    "        results.append({\n",
    "            'clinical_test': test_name,\n",
    "            'omics_feature': feature,\n",
    "            'omics_type': omics_type,\n",
    "            'n_samples': len(common_idx),\n",
    "            'pearson_r': r,\n",
    "            'pearson_p': p_value,\n",
    "            'spearman_rho': rho,\n",
    "            'spearman_p': p_spearman\n",
    "        })\n",
    "    \n",
    "    return pd.DataFrame(results)"
   ]
  },
  {
   "cell_type": "code",
   "execution_count": null,
   "metadata": {},
   "outputs": [],
   "source": [
    "# Calculate correlations for all matched tests\n",
    "all_correlations = []\n",
    "\n",
    "for test in chemistry_test_cols[:5]:  # Start with first 5 tests for demo\n",
    "    print(f\"\\nCalculating correlations for {test}...\")\n",
    "    \n",
    "    # Proteomics correlations\n",
    "    prot_corr = calculate_test_correlations(test, proteomics_cols[:100], merged_df, 'proteomics')\n",
    "    all_correlations.append(prot_corr)\n",
    "    \n",
    "    # Metabolomics correlations\n",
    "    metab_corr = calculate_test_correlations(test, metabolomics_cols[:100], merged_df, 'metabolomics')\n",
    "    all_correlations.append(metab_corr)\n",
    "    \n",
    "    print(f\"  - Found {len(prot_corr)} proteomics correlations\")\n",
    "    print(f\"  - Found {len(metab_corr)} metabolomics correlations\")\n",
    "\n",
    "# Combine all results\n",
    "correlation_results = pd.concat(all_correlations, ignore_index=True)\n",
    "print(f\"\\nTotal correlations calculated: {len(correlation_results)}\")"
   ]
  },
  {
   "cell_type": "markdown",
   "metadata": {},
   "source": [
    "## 5. Multiple Testing Correction"
   ]
  },
  {
   "cell_type": "code",
   "execution_count": null,
   "metadata": {},
   "outputs": [],
   "source": [
    "# Apply FDR correction for multiple testing\n",
    "if len(correlation_results) > 0:\n",
    "    # For Pearson correlations\n",
    "    _, pvals_corrected, _, _ = multipletests(correlation_results['pearson_p'], \n",
    "                                             alpha=0.05, method='fdr_bh')\n",
    "    correlation_results['pearson_q'] = pvals_corrected\n",
    "    \n",
    "    # For Spearman correlations\n",
    "    _, pvals_corrected_sp, _, _ = multipletests(correlation_results['spearman_p'], \n",
    "                                                alpha=0.05, method='fdr_bh')\n",
    "    correlation_results['spearman_q'] = pvals_corrected_sp\n",
    "    \n",
    "    # Filter for significant correlations\n",
    "    significant_corr = correlation_results[\n",
    "        (correlation_results['pearson_q'] < 0.05) & \n",
    "        (np.abs(correlation_results['pearson_r']) > 0.3)\n",
    "    ].sort_values('pearson_r', key=abs, ascending=False)\n",
    "    \n",
    "    print(f\"\\nSignificant correlations (FDR < 0.05, |r| > 0.3): {len(significant_corr)}\")\n",
    "    print(\"\\nTop 10 significant correlations:\")\n",
    "    print(significant_corr[['clinical_test', 'omics_feature', 'omics_type', \n",
    "                           'pearson_r', 'pearson_q', 'n_samples']].head(10))"
   ]
  },
  {
   "cell_type": "markdown",
   "metadata": {},
   "source": [
    "## 6. Visualization"
   ]
  },
  {
   "cell_type": "code",
   "execution_count": null,
   "metadata": {},
   "outputs": [],
   "source": [
    "# Create volcano plot for one test\n",
    "if len(correlation_results) > 0 and chemistry_test_cols:\n",
    "    test_to_plot = chemistry_test_cols[0]\n",
    "    test_data = correlation_results[correlation_results['clinical_test'] == test_to_plot]\n",
    "    \n",
    "    if len(test_data) > 0:\n",
    "        fig, (ax1, ax2) = plt.subplots(1, 2, figsize=(16, 6))\n",
    "        \n",
    "        # Proteomics volcano plot\n",
    "        prot_data = test_data[test_data['omics_type'] == 'proteomics']\n",
    "        if len(prot_data) > 0:\n",
    "            ax1.scatter(prot_data['pearson_r'], -np.log10(prot_data['pearson_p']), \n",
    "                       alpha=0.6, s=30)\n",
    "            ax1.axhline(y=-np.log10(0.05), color='r', linestyle='--', alpha=0.5)\n",
    "            ax1.axvline(x=0.3, color='g', linestyle='--', alpha=0.5)\n",
    "            ax1.axvline(x=-0.3, color='g', linestyle='--', alpha=0.5)\n",
    "            ax1.set_xlabel('Pearson Correlation (r)')\n",
    "            ax1.set_ylabel('-log10(p-value)')\n",
    "            ax1.set_title(f'{test_to_plot} vs Proteomics')\n",
    "        \n",
    "        # Metabolomics volcano plot\n",
    "        metab_data = test_data[test_data['omics_type'] == 'metabolomics']\n",
    "        if len(metab_data) > 0:\n",
    "            ax2.scatter(metab_data['pearson_r'], -np.log10(metab_data['pearson_p']), \n",
    "                       alpha=0.6, s=30, color='orange')\n",
    "            ax2.axhline(y=-np.log10(0.05), color='r', linestyle='--', alpha=0.5)\n",
    "            ax2.axvline(x=0.3, color='g', linestyle='--', alpha=0.5)\n",
    "            ax2.axvline(x=-0.3, color='g', linestyle='--', alpha=0.5)\n",
    "            ax2.set_xlabel('Pearson Correlation (r)')\n",
    "            ax2.set_ylabel('-log10(p-value)')\n",
    "            ax2.set_title(f'{test_to_plot} vs Metabolomics')\n",
    "        \n",
    "        plt.tight_layout()\n",
    "        plt.show()"
   ]
  },
  {
   "cell_type": "code",
   "execution_count": null,
   "metadata": {},
   "outputs": [],
   "source": [
    "# Heatmap of top correlations\n",
    "if len(significant_corr) > 0:\n",
    "    # Pivot data for heatmap\n",
    "    top_features = significant_corr.groupby('clinical_test').head(5)\n",
    "    \n",
    "    heatmap_data = top_features.pivot_table(\n",
    "        values='pearson_r',\n",
    "        index='omics_feature',\n",
    "        columns='clinical_test'\n",
    "    )\n",
    "    \n",
    "    if not heatmap_data.empty:\n",
    "        plt.figure(figsize=(12, 8))\n",
    "        sns.heatmap(heatmap_data, cmap='RdBu_r', center=0, \n",
    "                   vmin=-1, vmax=1, cbar_kws={'label': 'Pearson r'})\n",
    "        plt.title('Top Omics-Clinical Test Correlations')\n",
    "        plt.tight_layout()\n",
    "        plt.show()"
   ]
  },
  {
   "cell_type": "markdown",
   "metadata": {},
   "source": [
    "## 7. Example: Detailed Analysis for Glucose"
   ]
  },
  {
   "cell_type": "code",
   "execution_count": null,
   "metadata": {},
   "outputs": [],
   "source": [
    "# Look for glucose test\n",
    "glucose_matches = [test for test in chemistry_test_cols if 'glucose' in test.lower()]\n",
    "print(\"Glucose-related tests:\", glucose_matches)\n",
    "\n",
    "if glucose_matches:\n",
    "    glucose_test = glucose_matches[0]\n",
    "    \n",
    "    # Calculate full correlations for glucose\n",
    "    print(f\"\\nCalculating all correlations for {glucose_test}...\")\n",
    "    glucose_prot = calculate_test_correlations(glucose_test, proteomics_cols, merged_df, 'proteomics')\n",
    "    glucose_metab = calculate_test_correlations(glucose_test, metabolomics_cols, merged_df, 'metabolomics')\n",
    "    \n",
    "    glucose_all = pd.concat([glucose_prot, glucose_metab])\n",
    "    \n",
    "    # Apply FDR correction\n",
    "    _, pvals_corrected, _, _ = multipletests(glucose_all['pearson_p'], alpha=0.05, method='fdr_bh')\n",
    "    glucose_all['pearson_q'] = pvals_corrected\n",
    "    \n",
    "    # Get top correlations\n",
    "    glucose_sig = glucose_all[\n",
    "        (glucose_all['pearson_q'] < 0.05) & \n",
    "        (np.abs(glucose_all['pearson_r']) > 0.3)\n",
    "    ].sort_values('pearson_r', key=abs, ascending=False)\n",
    "    \n",
    "    print(f\"\\nTop glucose correlations:\")\n",
    "    print(glucose_sig[['omics_feature', 'omics_type', 'pearson_r', 'pearson_q']].head(20))"
   ]
  },
  {
   "cell_type": "markdown",
   "metadata": {},
   "source": [
    "## 8. Summary Report Generation"
   ]
  },
  {
   "cell_type": "code",
   "execution_count": null,
   "metadata": {},
   "outputs": [],
   "source": [
    "# Generate summary report\n",
    "if len(correlation_results) > 0:\n",
    "    print(\"\\n=== CORRELATION ANALYSIS SUMMARY ===\")\n",
    "    print(f\"\\nTotal clinical tests analyzed: {correlation_results['clinical_test'].nunique()}\")\n",
    "    print(f\"Total omics features tested: {correlation_results['omics_feature'].nunique()}\")\n",
    "    print(f\"Total correlations calculated: {len(correlation_results)}\")\n",
    "    \n",
    "    # Summary by omics type\n",
    "    print(\"\\nCorrelations by omics type:\")\n",
    "    print(correlation_results.groupby('omics_type').size())\n",
    "    \n",
    "    # Significant findings\n",
    "    sig_results = correlation_results[correlation_results['pearson_q'] < 0.05]\n",
    "    print(f\"\\nSignificant correlations (FDR < 0.05): {len(sig_results)}\")\n",
    "    \n",
    "    # Strong correlations\n",
    "    strong_corr = sig_results[np.abs(sig_results['pearson_r']) > 0.5]\n",
    "    print(f\"Strong correlations (|r| > 0.5, FDR < 0.05): {len(strong_corr)}\")\n",
    "    \n",
    "    # Summary by clinical test\n",
    "    print(\"\\nSignificant correlations per clinical test:\")\n",
    "    test_summary = sig_results.groupby('clinical_test').agg({\n",
    "        'omics_feature': 'count',\n",
    "        'pearson_r': lambda x: f\"{x.abs().max():.3f}\"\n",
    "    }).rename(columns={'omics_feature': 'n_significant', 'pearson_r': 'max_abs_r'})\n",
    "    print(test_summary)"
   ]
  },
  {
   "cell_type": "code",
   "execution_count": null,
   "metadata": {},
   "outputs": [],
   "source": [
    "# Save results\n",
    "if len(correlation_results) > 0:\n",
    "    # Save all correlations\n",
    "    correlation_results.to_csv('omics_clinical_correlations_all.csv', index=False)\n",
    "    print(\"\\nSaved all correlations to 'omics_clinical_correlations_all.csv'\")\n",
    "    \n",
    "    # Save significant correlations\n",
    "    if len(significant_corr) > 0:\n",
    "        significant_corr.to_csv('omics_clinical_correlations_significant.csv', index=False)\n",
    "        print(f\"Saved {len(significant_corr)} significant correlations to 'omics_clinical_correlations_significant.csv'\")"
   ]
  },
  {
   "cell_type": "markdown",
   "metadata": {},
   "source": [
    "## 9. Next Steps and Recommendations\n",
    "\n",
    "Based on this analysis, next steps include:\n",
    "\n",
    "1. **Pathway Analysis**: For proteins/metabolites showing strong correlations, perform pathway enrichment analysis\n",
    "2. **Time Series Analysis**: Account for longitudinal nature of data (multiple timepoints per patient)\n",
    "3. **Machine Learning**: Build predictive models using omics features to predict clinical test values\n",
    "4. **Clinical Interpretation**: Work with domain experts to interpret biological significance\n",
    "5. **Expand Analysis**: Run full analysis on all matched tests (not just demo subset)\n",
    "6. **Network Analysis**: Build correlation networks to identify clusters of related features\n",
    "7. **Genomics Integration**: If genomic data available, identify genetic variants associated with test variations"
   ]
  }
 ],
 "metadata": {
  "kernelspec": {
   "display_name": "biomapper-OD08x7G7-py3.11",
   "language": "python",
   "name": "python3"
  },
  "language_info": {
   "codemirror_mode": {
    "name": "ipython",
    "version": 3
   },
   "file_extension": ".py",
   "mimetype": "text/x-python",
   "name": "python",
   "nbconvert_exporter": "python",
   "pygments_lexer": "ipython3",
   "version": "3.11.12"
  }
 },
 "nbformat": 4,
 "nbformat_minor": 4
}